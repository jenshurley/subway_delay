{
 "cells": [
  {
   "cell_type": "code",
   "execution_count": 1,
   "metadata": {},
   "outputs": [],
   "source": [
    "import tweepy\n",
    "import pandas as pd\n",
    "\n",
    "# Get frequency for each train being late\n",
    "# https://twitter.com/subwaystats\n",
    "#get last 1000, ant if you see \"delay\" in text, \n",
    "# value counts on a series"
   ]
  },
  {
   "cell_type": "code",
   "execution_count": 2,
   "metadata": {},
   "outputs": [],
   "source": [
    "consumer_key = \n",
    "consumer_secret = \n",
    "app_key = \n",
    "app_secret = \n",
    "\n",
    "auth = tweepy.OAuthHandler(consumer_key, consumer_secret)\n",
    "auth.set_access_token(app_key, app_secret)\n",
    "api = tweepy.API(auth)"
   ]
  },
  {
   "cell_type": "code",
   "execution_count": 3,
   "metadata": {},
   "outputs": [],
   "source": [
    "subway_stats = []\n",
    "\n",
    "for status in tweepy.Cursor(api.user_timeline, id='subwaystats').items(1000):\n",
    "    subway_stats.append(status)"
   ]
  },
  {
   "cell_type": "code",
   "execution_count": 9,
   "metadata": {},
   "outputs": [
    {
     "data": {
      "text/plain": [
       "1000"
      ]
     },
     "execution_count": 9,
     "metadata": {},
     "output_type": "execute_result"
    }
   ],
   "source": [
    "len(subway_stats)"
   ]
  },
  {
   "cell_type": "code",
   "execution_count": 19,
   "metadata": {},
   "outputs": [
    {
     "data": {
      "text/plain": [
       "{'contributors': None,\n",
       " 'coordinates': None,\n",
       " 'created_at': 'Fri Jun 22 01:10:04 +0000 2018',\n",
       " 'entities': {'hashtags': [{'indices': [0, 7], 'text': 'Ntrain'},\n",
       "   {'indices': [8, 15], 'text': 'Qtrain'},\n",
       "   {'indices': [16, 23], 'text': 'Rtrain'},\n",
       "   {'indices': [24, 31], 'text': 'Wtrain'}],\n",
       "  'symbols': [],\n",
       "  'urls': [{'display_url': 'twitter.com/i/web/status/1…',\n",
       "    'expanded_url': 'https://twitter.com/i/web/status/1009966719337750528',\n",
       "    'indices': [117, 140],\n",
       "    'url': 'https://t.co/F0agVK05jd'}],\n",
       "  'user_mentions': []},\n",
       " 'favorite_count': 0,\n",
       " 'favorited': False,\n",
       " 'geo': None,\n",
       " 'id': 1009966719337750528,\n",
       " 'id_str': '1009966719337750528',\n",
       " 'in_reply_to_screen_name': None,\n",
       " 'in_reply_to_status_id': None,\n",
       " 'in_reply_to_status_id_str': None,\n",
       " 'in_reply_to_user_id': None,\n",
       " 'in_reply_to_user_id_str': None,\n",
       " 'is_quote_status': False,\n",
       " 'lang': 'en',\n",
       " 'place': None,\n",
       " 'possibly_sensitive': False,\n",
       " 'retweet_count': 0,\n",
       " 'retweeted': False,\n",
       " 'source': '<a href=\"http://www.subwaystats.com\" rel=\"nofollow\">SubwayStats</a>',\n",
       " 'text': '#Ntrain #Qtrain #Rtrain #Wtrain have service change Bay Ridge-bound [R] trains run via the [Q] from Canal St, Manha… https://t.co/F0agVK05jd',\n",
       " 'truncated': True,\n",
       " 'user': {'contributors_enabled': False,\n",
       "  'created_at': 'Mon May 28 22:39:13 +0000 2012',\n",
       "  'default_profile': False,\n",
       "  'default_profile_image': False,\n",
       "  'description': 'Current #NYC #MTA #subway status, delays and closures. Visit https://t.co/EKcEGv271h for detailed statistics by line.',\n",
       "  'entities': {'description': {'urls': [{'display_url': 'subwaystats.com',\n",
       "      'expanded_url': 'https://subwaystats.com',\n",
       "      'indices': [61, 84],\n",
       "      'url': 'https://t.co/EKcEGv271h'}]},\n",
       "   'url': {'urls': [{'display_url': 'subwaystats.com',\n",
       "      'expanded_url': 'https://subwaystats.com',\n",
       "      'indices': [0, 23],\n",
       "      'url': 'https://t.co/EKcEGv271h'}]}},\n",
       "  'favourites_count': 30,\n",
       "  'follow_request_sent': False,\n",
       "  'followers_count': 4652,\n",
       "  'following': False,\n",
       "  'friends_count': 134,\n",
       "  'geo_enabled': False,\n",
       "  'has_extended_profile': False,\n",
       "  'id': 593125784,\n",
       "  'id_str': '593125784',\n",
       "  'is_translation_enabled': False,\n",
       "  'is_translator': False,\n",
       "  'lang': 'en',\n",
       "  'listed_count': 44,\n",
       "  'location': 'New York, NY, USA',\n",
       "  'name': 'Subway Status Delays',\n",
       "  'notifications': False,\n",
       "  'profile_background_color': '000000',\n",
       "  'profile_background_image_url': 'http://abs.twimg.com/images/themes/theme1/bg.png',\n",
       "  'profile_background_image_url_https': 'https://abs.twimg.com/images/themes/theme1/bg.png',\n",
       "  'profile_background_tile': False,\n",
       "  'profile_banner_url': 'https://pbs.twimg.com/profile_banners/593125784/1474882712',\n",
       "  'profile_image_url': 'http://pbs.twimg.com/profile_images/995383229237542912/EqxE9E2C_normal.jpg',\n",
       "  'profile_image_url_https': 'https://pbs.twimg.com/profile_images/995383229237542912/EqxE9E2C_normal.jpg',\n",
       "  'profile_link_color': 'ABB8C2',\n",
       "  'profile_sidebar_border_color': '000000',\n",
       "  'profile_sidebar_fill_color': '000000',\n",
       "  'profile_text_color': '000000',\n",
       "  'profile_use_background_image': False,\n",
       "  'protected': False,\n",
       "  'screen_name': 'SubwayStats',\n",
       "  'statuses_count': 63527,\n",
       "  'time_zone': None,\n",
       "  'translator_type': 'none',\n",
       "  'url': 'https://t.co/EKcEGv271h',\n",
       "  'utc_offset': None,\n",
       "  'verified': True}}"
      ]
     },
     "execution_count": 19,
     "metadata": {},
     "output_type": "execute_result"
    }
   ],
   "source": [
    "subway_stats[0]._json"
   ]
  },
  {
   "cell_type": "code",
   "execution_count": 25,
   "metadata": {},
   "outputs": [],
   "source": [
    "df = pd.DataFrame([x._json for x in subway_stats])[['text', 'created_at', 'entities']]"
   ]
  },
  {
   "cell_type": "code",
   "execution_count": 26,
   "metadata": {},
   "outputs": [
    {
     "data": {
      "text/html": [
       "<div>\n",
       "<style scoped>\n",
       "    .dataframe tbody tr th:only-of-type {\n",
       "        vertical-align: middle;\n",
       "    }\n",
       "\n",
       "    .dataframe tbody tr th {\n",
       "        vertical-align: top;\n",
       "    }\n",
       "\n",
       "    .dataframe thead th {\n",
       "        text-align: right;\n",
       "    }\n",
       "</style>\n",
       "<table border=\"1\" class=\"dataframe\">\n",
       "  <thead>\n",
       "    <tr style=\"text-align: right;\">\n",
       "      <th></th>\n",
       "      <th>text</th>\n",
       "      <th>created_at</th>\n",
       "      <th>entities</th>\n",
       "    </tr>\n",
       "  </thead>\n",
       "  <tbody>\n",
       "    <tr>\n",
       "      <th>0</th>\n",
       "      <td>#Ntrain #Qtrain #Rtrain #Wtrain have service c...</td>\n",
       "      <td>Fri Jun 22 01:10:04 +0000 2018</td>\n",
       "      <td>{'hashtags': [{'text': 'Ntrain', 'indices': [0...</td>\n",
       "    </tr>\n",
       "    <tr>\n",
       "      <th>1</th>\n",
       "      <td>#Btrain #Dtrain #Ftrain #Mtrain have service c...</td>\n",
       "      <td>Fri Jun 22 01:10:03 +0000 2018</td>\n",
       "      <td>{'hashtags': [{'text': 'Btrain', 'indices': [0...</td>\n",
       "    </tr>\n",
       "    <tr>\n",
       "      <th>2</th>\n",
       "      <td>#Ntrain #Qtrain #Rtrain #Wtrain have delays Ba...</td>\n",
       "      <td>Fri Jun 22 00:55:05 +0000 2018</td>\n",
       "      <td>{'hashtags': [{'text': 'Ntrain', 'indices': [0...</td>\n",
       "    </tr>\n",
       "    <tr>\n",
       "      <th>3</th>\n",
       "      <td>#Btrain #Dtrain #Ftrain #Mtrain have delays [B...</td>\n",
       "      <td>Fri Jun 22 00:55:04 +0000 2018</td>\n",
       "      <td>{'hashtags': [{'text': 'Btrain', 'indices': [0...</td>\n",
       "    </tr>\n",
       "    <tr>\n",
       "      <th>4</th>\n",
       "      <td>#Atrain #Ctrain and #Etrain have planned work ...</td>\n",
       "      <td>Fri Jun 22 00:55:03 +0000 2018</td>\n",
       "      <td>{'hashtags': [{'text': 'Atrain', 'indices': [0...</td>\n",
       "    </tr>\n",
       "  </tbody>\n",
       "</table>\n",
       "</div>"
      ],
      "text/plain": [
       "                                                text  \\\n",
       "0  #Ntrain #Qtrain #Rtrain #Wtrain have service c...   \n",
       "1  #Btrain #Dtrain #Ftrain #Mtrain have service c...   \n",
       "2  #Ntrain #Qtrain #Rtrain #Wtrain have delays Ba...   \n",
       "3  #Btrain #Dtrain #Ftrain #Mtrain have delays [B...   \n",
       "4  #Atrain #Ctrain and #Etrain have planned work ...   \n",
       "\n",
       "                       created_at  \\\n",
       "0  Fri Jun 22 01:10:04 +0000 2018   \n",
       "1  Fri Jun 22 01:10:03 +0000 2018   \n",
       "2  Fri Jun 22 00:55:05 +0000 2018   \n",
       "3  Fri Jun 22 00:55:04 +0000 2018   \n",
       "4  Fri Jun 22 00:55:03 +0000 2018   \n",
       "\n",
       "                                            entities  \n",
       "0  {'hashtags': [{'text': 'Ntrain', 'indices': [0...  \n",
       "1  {'hashtags': [{'text': 'Btrain', 'indices': [0...  \n",
       "2  {'hashtags': [{'text': 'Ntrain', 'indices': [0...  \n",
       "3  {'hashtags': [{'text': 'Btrain', 'indices': [0...  \n",
       "4  {'hashtags': [{'text': 'Atrain', 'indices': [0...  "
      ]
     },
     "execution_count": 26,
     "metadata": {},
     "output_type": "execute_result"
    }
   ],
   "source": [
    "df.head()"
   ]
  },
  {
   "cell_type": "code",
   "execution_count": 32,
   "metadata": {},
   "outputs": [],
   "source": [
    "df['train_type'] = df['entities'].map(lambda x: x.get('hashtags')[0].get('text'))"
   ]
  },
  {
   "cell_type": "code",
   "execution_count": 33,
   "metadata": {},
   "outputs": [
    {
     "data": {
      "text/html": [
       "<div>\n",
       "<style scoped>\n",
       "    .dataframe tbody tr th:only-of-type {\n",
       "        vertical-align: middle;\n",
       "    }\n",
       "\n",
       "    .dataframe tbody tr th {\n",
       "        vertical-align: top;\n",
       "    }\n",
       "\n",
       "    .dataframe thead th {\n",
       "        text-align: right;\n",
       "    }\n",
       "</style>\n",
       "<table border=\"1\" class=\"dataframe\">\n",
       "  <thead>\n",
       "    <tr style=\"text-align: right;\">\n",
       "      <th></th>\n",
       "      <th>text</th>\n",
       "      <th>created_at</th>\n",
       "      <th>entities</th>\n",
       "      <th>train_type</th>\n",
       "    </tr>\n",
       "  </thead>\n",
       "  <tbody>\n",
       "    <tr>\n",
       "      <th>0</th>\n",
       "      <td>#Ntrain #Qtrain #Rtrain #Wtrain have service c...</td>\n",
       "      <td>Fri Jun 22 01:10:04 +0000 2018</td>\n",
       "      <td>{'hashtags': [{'text': 'Ntrain', 'indices': [0...</td>\n",
       "      <td>Ntrain</td>\n",
       "    </tr>\n",
       "    <tr>\n",
       "      <th>1</th>\n",
       "      <td>#Btrain #Dtrain #Ftrain #Mtrain have service c...</td>\n",
       "      <td>Fri Jun 22 01:10:03 +0000 2018</td>\n",
       "      <td>{'hashtags': [{'text': 'Btrain', 'indices': [0...</td>\n",
       "      <td>Btrain</td>\n",
       "    </tr>\n",
       "    <tr>\n",
       "      <th>2</th>\n",
       "      <td>#Ntrain #Qtrain #Rtrain #Wtrain have delays Ba...</td>\n",
       "      <td>Fri Jun 22 00:55:05 +0000 2018</td>\n",
       "      <td>{'hashtags': [{'text': 'Ntrain', 'indices': [0...</td>\n",
       "      <td>Ntrain</td>\n",
       "    </tr>\n",
       "    <tr>\n",
       "      <th>3</th>\n",
       "      <td>#Btrain #Dtrain #Ftrain #Mtrain have delays [B...</td>\n",
       "      <td>Fri Jun 22 00:55:04 +0000 2018</td>\n",
       "      <td>{'hashtags': [{'text': 'Btrain', 'indices': [0...</td>\n",
       "      <td>Btrain</td>\n",
       "    </tr>\n",
       "    <tr>\n",
       "      <th>4</th>\n",
       "      <td>#Atrain #Ctrain and #Etrain have planned work ...</td>\n",
       "      <td>Fri Jun 22 00:55:03 +0000 2018</td>\n",
       "      <td>{'hashtags': [{'text': 'Atrain', 'indices': [0...</td>\n",
       "      <td>Atrain</td>\n",
       "    </tr>\n",
       "  </tbody>\n",
       "</table>\n",
       "</div>"
      ],
      "text/plain": [
       "                                                text  \\\n",
       "0  #Ntrain #Qtrain #Rtrain #Wtrain have service c...   \n",
       "1  #Btrain #Dtrain #Ftrain #Mtrain have service c...   \n",
       "2  #Ntrain #Qtrain #Rtrain #Wtrain have delays Ba...   \n",
       "3  #Btrain #Dtrain #Ftrain #Mtrain have delays [B...   \n",
       "4  #Atrain #Ctrain and #Etrain have planned work ...   \n",
       "\n",
       "                       created_at  \\\n",
       "0  Fri Jun 22 01:10:04 +0000 2018   \n",
       "1  Fri Jun 22 01:10:03 +0000 2018   \n",
       "2  Fri Jun 22 00:55:05 +0000 2018   \n",
       "3  Fri Jun 22 00:55:04 +0000 2018   \n",
       "4  Fri Jun 22 00:55:03 +0000 2018   \n",
       "\n",
       "                                            entities train_type  \n",
       "0  {'hashtags': [{'text': 'Ntrain', 'indices': [0...     Ntrain  \n",
       "1  {'hashtags': [{'text': 'Btrain', 'indices': [0...     Btrain  \n",
       "2  {'hashtags': [{'text': 'Ntrain', 'indices': [0...     Ntrain  \n",
       "3  {'hashtags': [{'text': 'Btrain', 'indices': [0...     Btrain  \n",
       "4  {'hashtags': [{'text': 'Atrain', 'indices': [0...     Atrain  "
      ]
     },
     "execution_count": 33,
     "metadata": {},
     "output_type": "execute_result"
    }
   ],
   "source": [
    "df.head()"
   ]
  },
  {
   "cell_type": "code",
   "execution_count": 34,
   "metadata": {},
   "outputs": [
    {
     "data": {
      "text/plain": [
       "Btrain      211\n",
       "4train      197\n",
       "Ntrain      153\n",
       "Atrain      141\n",
       "1train      118\n",
       "7train       50\n",
       "Ltrain       34\n",
       "Jtrain       31\n",
       "SIRtrain     26\n",
       "Gtrain       22\n",
       "Strain       15\n",
       "ltrain        1\n",
       "Ltrains       1\n",
       "Name: train_type, dtype: int64"
      ]
     },
     "execution_count": 34,
     "metadata": {},
     "output_type": "execute_result"
    }
   ],
   "source": [
    "df.train_type.value_counts()"
   ]
  },
  {
   "cell_type": "code",
   "execution_count": 40,
   "metadata": {},
   "outputs": [],
   "source": [
    "#if text 'delay' not in text, drop row\n",
    "#mask\n",
    "mask = df.text.map(lambda x: True if 'delays' in x else False)"
   ]
  },
  {
   "cell_type": "code",
   "execution_count": 41,
   "metadata": {},
   "outputs": [
    {
     "data": {
      "text/plain": [
       "False    725\n",
       "True     275\n",
       "Name: text, dtype: int64"
      ]
     },
     "execution_count": 41,
     "metadata": {},
     "output_type": "execute_result"
    }
   ],
   "source": [
    "mask.value_counts()"
   ]
  },
  {
   "cell_type": "code",
   "execution_count": 42,
   "metadata": {},
   "outputs": [
    {
     "data": {
      "text/plain": [
       "pandas.core.series.Series"
      ]
     },
     "execution_count": 42,
     "metadata": {},
     "output_type": "execute_result"
    }
   ],
   "source": [
    "type(mask)"
   ]
  },
  {
   "cell_type": "code",
   "execution_count": 43,
   "metadata": {},
   "outputs": [
    {
     "data": {
      "text/plain": [
       "0    False\n",
       "1    False\n",
       "2     True\n",
       "3     True\n",
       "4    False\n",
       "5    False\n",
       "6    False\n",
       "7    False\n",
       "8    False\n",
       "9     True\n",
       "Name: text, dtype: bool"
      ]
     },
     "execution_count": 43,
     "metadata": {},
     "output_type": "execute_result"
    }
   ],
   "source": [
    "mask[:10]"
   ]
  },
  {
   "cell_type": "code",
   "execution_count": 44,
   "metadata": {},
   "outputs": [],
   "source": [
    "df_delay = df[mask]"
   ]
  },
  {
   "cell_type": "code",
   "execution_count": 45,
   "metadata": {},
   "outputs": [
    {
     "data": {
      "text/html": [
       "<div>\n",
       "<style scoped>\n",
       "    .dataframe tbody tr th:only-of-type {\n",
       "        vertical-align: middle;\n",
       "    }\n",
       "\n",
       "    .dataframe tbody tr th {\n",
       "        vertical-align: top;\n",
       "    }\n",
       "\n",
       "    .dataframe thead th {\n",
       "        text-align: right;\n",
       "    }\n",
       "</style>\n",
       "<table border=\"1\" class=\"dataframe\">\n",
       "  <thead>\n",
       "    <tr style=\"text-align: right;\">\n",
       "      <th></th>\n",
       "      <th>text</th>\n",
       "      <th>created_at</th>\n",
       "      <th>entities</th>\n",
       "      <th>train_type</th>\n",
       "    </tr>\n",
       "  </thead>\n",
       "  <tbody>\n",
       "    <tr>\n",
       "      <th>2</th>\n",
       "      <td>#Ntrain #Qtrain #Rtrain #Wtrain have delays Ba...</td>\n",
       "      <td>Fri Jun 22 00:55:05 +0000 2018</td>\n",
       "      <td>{'hashtags': [{'text': 'Ntrain', 'indices': [0...</td>\n",
       "      <td>Ntrain</td>\n",
       "    </tr>\n",
       "    <tr>\n",
       "      <th>3</th>\n",
       "      <td>#Btrain #Dtrain #Ftrain #Mtrain have delays [B...</td>\n",
       "      <td>Fri Jun 22 00:55:04 +0000 2018</td>\n",
       "      <td>{'hashtags': [{'text': 'Btrain', 'indices': [0...</td>\n",
       "      <td>Btrain</td>\n",
       "    </tr>\n",
       "    <tr>\n",
       "      <th>9</th>\n",
       "      <td>#Btrain #Dtrain #Ftrain #Mtrain have delays [B...</td>\n",
       "      <td>Fri Jun 22 00:15:03 +0000 2018</td>\n",
       "      <td>{'hashtags': [{'text': 'Btrain', 'indices': [0...</td>\n",
       "      <td>Btrain</td>\n",
       "    </tr>\n",
       "    <tr>\n",
       "      <th>12</th>\n",
       "      <td>#Jtrain and #Ztrain have delays  #NYCsubway ht...</td>\n",
       "      <td>Fri Jun 22 00:05:06 +0000 2018</td>\n",
       "      <td>{'hashtags': [{'text': 'Jtrain', 'indices': [0...</td>\n",
       "      <td>Jtrain</td>\n",
       "    </tr>\n",
       "    <tr>\n",
       "      <th>13</th>\n",
       "      <td>#Btrain #Dtrain #Ftrain #Mtrain have delays [B...</td>\n",
       "      <td>Fri Jun 22 00:05:02 +0000 2018</td>\n",
       "      <td>{'hashtags': [{'text': 'Btrain', 'indices': [0...</td>\n",
       "      <td>Btrain</td>\n",
       "    </tr>\n",
       "  </tbody>\n",
       "</table>\n",
       "</div>"
      ],
      "text/plain": [
       "                                                 text  \\\n",
       "2   #Ntrain #Qtrain #Rtrain #Wtrain have delays Ba...   \n",
       "3   #Btrain #Dtrain #Ftrain #Mtrain have delays [B...   \n",
       "9   #Btrain #Dtrain #Ftrain #Mtrain have delays [B...   \n",
       "12  #Jtrain and #Ztrain have delays  #NYCsubway ht...   \n",
       "13  #Btrain #Dtrain #Ftrain #Mtrain have delays [B...   \n",
       "\n",
       "                        created_at  \\\n",
       "2   Fri Jun 22 00:55:05 +0000 2018   \n",
       "3   Fri Jun 22 00:55:04 +0000 2018   \n",
       "9   Fri Jun 22 00:15:03 +0000 2018   \n",
       "12  Fri Jun 22 00:05:06 +0000 2018   \n",
       "13  Fri Jun 22 00:05:02 +0000 2018   \n",
       "\n",
       "                                             entities train_type  \n",
       "2   {'hashtags': [{'text': 'Ntrain', 'indices': [0...     Ntrain  \n",
       "3   {'hashtags': [{'text': 'Btrain', 'indices': [0...     Btrain  \n",
       "9   {'hashtags': [{'text': 'Btrain', 'indices': [0...     Btrain  \n",
       "12  {'hashtags': [{'text': 'Jtrain', 'indices': [0...     Jtrain  \n",
       "13  {'hashtags': [{'text': 'Btrain', 'indices': [0...     Btrain  "
      ]
     },
     "execution_count": 45,
     "metadata": {},
     "output_type": "execute_result"
    }
   ],
   "source": [
    "df_delay.head()"
   ]
  },
  {
   "cell_type": "code",
   "execution_count": 49,
   "metadata": {},
   "outputs": [
    {
     "data": {
      "text/plain": [
       "Btrain      59\n",
       "4train      50\n",
       "Ntrain      43\n",
       "Atrain      37\n",
       "1train      32\n",
       "7train      17\n",
       "Jtrain      13\n",
       "Ltrain       9\n",
       "Gtrain       6\n",
       "Strain       5\n",
       "SIRtrain     4\n",
       "Name: train_type, dtype: int64"
      ]
     },
     "execution_count": 49,
     "metadata": {},
     "output_type": "execute_result"
    }
   ],
   "source": [
    "df_delay.train_type.value_counts()"
   ]
  },
  {
   "cell_type": "code",
   "execution_count": null,
   "metadata": {},
   "outputs": [],
   "source": []
  }
 ],
 "metadata": {
  "kernelspec": {
   "display_name": "Python 3",
   "language": "python",
   "name": "python3"
  },
  "language_info": {
   "codemirror_mode": {
    "name": "ipython",
    "version": 3
   },
   "file_extension": ".py",
   "mimetype": "text/x-python",
   "name": "python",
   "nbconvert_exporter": "python",
   "pygments_lexer": "ipython3",
   "version": "3.6.4"
  }
 },
 "nbformat": 4,
 "nbformat_minor": 2
}
